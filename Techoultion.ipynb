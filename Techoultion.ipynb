{
 "cells": [
  {
   "cell_type": "markdown",
   "metadata": {},
   "source": [
    "### Importing Packages"
   ]
  },
  {
   "cell_type": "code",
   "execution_count": 150,
   "metadata": {},
   "outputs": [],
   "source": [
    "from selenium import webdriver\n",
    "from selenium.webdriver.common.keys import Keys\n",
    "from bs4 import BeautifulSoup\n",
    "import pandas as pd"
   ]
  },
  {
   "cell_type": "markdown",
   "metadata": {},
   "source": [
    "Website URL for scraping"
   ]
  },
  {
   "cell_type": "code",
   "execution_count": 151,
   "metadata": {},
   "outputs": [],
   "source": [
    "url='https://techolution.app.param.ai/jobs'"
   ]
  },
  {
   "cell_type": "markdown",
   "metadata": {},
   "source": [
    "Selenium webdriver is used for connecting with browser"
   ]
  },
  {
   "cell_type": "code",
   "execution_count": 152,
   "metadata": {},
   "outputs": [],
   "source": [
    "driver = webdriver.Chrome()\n",
    "driver.get(url)"
   ]
  },
  {
   "cell_type": "markdown",
   "metadata": {},
   "source": [
    "Parse the page into BeautifulSoup format using BeautifulSoup\n"
   ]
  },
  {
   "cell_type": "code",
   "execution_count": 166,
   "metadata": {},
   "outputs": [],
   "source": [
    "soup=BeautifulSoup(driver.page_source, 'html.parser')\n",
    "#soup"
   ]
  },
  {
   "cell_type": "markdown",
   "metadata": {},
   "source": [
    "**Extracted Job role using class label and tag where role is declared and i added those roles into List for this i used find_all method** "
   ]
  },
  {
   "cell_type": "code",
   "execution_count": 154,
   "metadata": {},
   "outputs": [],
   "source": [
    "role=soup.find_all('h3',attrs={'class':'job_name text-ellipsis'})\n",
    "role_name=[]\n",
    "for r in role:\n",
    "    role_name.append(r.get_text())"
   ]
  },
  {
   "cell_type": "markdown",
   "metadata": {},
   "source": [
    "*After i eliminated the separater of job_type, location and experience using decompose method for sepating those 3*"
   ]
  },
  {
   "cell_type": "code",
   "execution_count": 155,
   "metadata": {},
   "outputs": [],
   "source": [
    "for span in soup.find_all('span',attrs={'class':\"description-fields-separator\"}):\n",
    "    span.decompose()"
   ]
  },
  {
   "cell_type": "markdown",
   "metadata": {},
   "source": [
    "**After elimation of separator i extracted those 3 items in list**"
   ]
  },
  {
   "cell_type": "code",
   "execution_count": 156,
   "metadata": {},
   "outputs": [],
   "source": [
    "des=soup.find_all('p',attrs={'data-v-5b44ba93':\"\"})\n"
   ]
  },
  {
   "cell_type": "code",
   "execution_count": 157,
   "metadata": {},
   "outputs": [],
   "source": [
    "desc=[]\n",
    "for d in des:\n",
    "    di=d.find_all('span',attrs={'data-v-5b44ba93':\"\"})\n",
    "    for de in di:\n",
    "        desc.append(de.get_text().strip())\n",
    "l=len(desc)"
   ]
  },
  {
   "cell_type": "markdown",
   "metadata": {},
   "source": [
    "**The list contains jobtype, location and experience of each role in sequence after i separated those 3 using list operations by finding the length of list first one is jobtype second is location and third is experience remaining list items goes through the same sequence**"
   ]
  },
  {
   "cell_type": "code",
   "execution_count": 158,
   "metadata": {},
   "outputs": [
    {
     "data": {
      "text/plain": [
       "27"
      ]
     },
     "execution_count": 158,
     "metadata": {},
     "output_type": "execute_result"
    }
   ],
   "source": [
    "jobtype=desc[0:l:3]\n",
    "location=desc[1:l:3]\n",
    "experience=desc[2:l:3]\n",
    "#len(experience)\n",
    "#len(location)\n",
    "#len(jobtype)"
   ]
  },
  {
   "cell_type": "markdown",
   "metadata": {},
   "source": [
    "**Extracted job posted period using class label and span tag by applying find_all method**"
   ]
  },
  {
   "cell_type": "code",
   "execution_count": 159,
   "metadata": {},
   "outputs": [],
   "source": [
    "days=soup.find_all('span',attrs={'class':'date_posted'})\n",
    "period=[]\n",
    "for day in days:\n",
    "    period.append(day.get_text())"
   ]
  },
  {
   "cell_type": "markdown",
   "metadata": {},
   "source": [
    "**After extracting all Data i combined into Data Frame using Pandas**"
   ]
  },
  {
   "cell_type": "code",
   "execution_count": 160,
   "metadata": {},
   "outputs": [],
   "source": [
    "df = pd.DataFrame({'Role_name':role_name,'Job_type':jobtype,'Location':location,'Experience':experience,'Posted':period})"
   ]
  },
  {
   "cell_type": "code",
   "execution_count": 161,
   "metadata": {},
   "outputs": [
    {
     "data": {
      "text/html": [
       "<div>\n",
       "<style scoped>\n",
       "    .dataframe tbody tr th:only-of-type {\n",
       "        vertical-align: middle;\n",
       "    }\n",
       "\n",
       "    .dataframe tbody tr th {\n",
       "        vertical-align: top;\n",
       "    }\n",
       "\n",
       "    .dataframe thead th {\n",
       "        text-align: right;\n",
       "    }\n",
       "</style>\n",
       "<table border=\"1\" class=\"dataframe\">\n",
       "  <thead>\n",
       "    <tr style=\"text-align: right;\">\n",
       "      <th></th>\n",
       "      <th>Role_name</th>\n",
       "      <th>Job_type</th>\n",
       "      <th>Location</th>\n",
       "      <th>Experience</th>\n",
       "      <th>Posted</th>\n",
       "    </tr>\n",
       "  </thead>\n",
       "  <tbody>\n",
       "    <tr>\n",
       "      <th>0</th>\n",
       "      <td>Magento Developer</td>\n",
       "      <td>Full-time</td>\n",
       "      <td>Hyderabad</td>\n",
       "      <td>2 - 8 Years</td>\n",
       "      <td>3 hours ago</td>\n",
       "    </tr>\n",
       "    <tr>\n",
       "      <th>1</th>\n",
       "      <td>Python Developer</td>\n",
       "      <td>Full-time</td>\n",
       "      <td>Hyderabad</td>\n",
       "      <td>1 - 3 Years</td>\n",
       "      <td>9 days ago</td>\n",
       "    </tr>\n",
       "    <tr>\n",
       "      <th>2</th>\n",
       "      <td>Computer Vision Engineer / Machine Learning En...</td>\n",
       "      <td>Internship</td>\n",
       "      <td>Hyderabad</td>\n",
       "      <td>0 - 1 Years</td>\n",
       "      <td>10 days ago</td>\n",
       "    </tr>\n",
       "    <tr>\n",
       "      <th>3</th>\n",
       "      <td>Cloud Native Developer</td>\n",
       "      <td>Full-time</td>\n",
       "      <td>Hyderabad</td>\n",
       "      <td>2 - 5 Years</td>\n",
       "      <td>a month ago</td>\n",
       "    </tr>\n",
       "    <tr>\n",
       "      <th>4</th>\n",
       "      <td>Data Scientist Intern</td>\n",
       "      <td>Internship</td>\n",
       "      <td>Hyderabad</td>\n",
       "      <td>0 - 4 Years</td>\n",
       "      <td>a month ago</td>\n",
       "    </tr>\n",
       "    <tr>\n",
       "      <th>5</th>\n",
       "      <td>Embedded Engineer</td>\n",
       "      <td>Full-time</td>\n",
       "      <td>Hyderabad</td>\n",
       "      <td>2 - 4 Years</td>\n",
       "      <td>a month ago</td>\n",
       "    </tr>\n",
       "    <tr>\n",
       "      <th>6</th>\n",
       "      <td>System Engineer</td>\n",
       "      <td>Internship</td>\n",
       "      <td>Mauritius</td>\n",
       "      <td>0 - 1 Years</td>\n",
       "      <td>a month ago</td>\n",
       "    </tr>\n",
       "    <tr>\n",
       "      <th>7</th>\n",
       "      <td>Associate QA Engineer</td>\n",
       "      <td>Full-time</td>\n",
       "      <td>Hyderabad</td>\n",
       "      <td>1 - 3 Years</td>\n",
       "      <td>a month ago</td>\n",
       "    </tr>\n",
       "    <tr>\n",
       "      <th>8</th>\n",
       "      <td>Full Stack Developer</td>\n",
       "      <td>Full-time</td>\n",
       "      <td>Hyderabad</td>\n",
       "      <td>4 - 9 Years</td>\n",
       "      <td>2 months ago</td>\n",
       "    </tr>\n",
       "    <tr>\n",
       "      <th>9</th>\n",
       "      <td>Android Mobile Developer</td>\n",
       "      <td>Full-time</td>\n",
       "      <td>mauritius</td>\n",
       "      <td>3 - 8 Years</td>\n",
       "      <td>2 months ago</td>\n",
       "    </tr>\n",
       "    <tr>\n",
       "      <th>10</th>\n",
       "      <td>iOS Developer</td>\n",
       "      <td>Full-time</td>\n",
       "      <td>Hyderabad</td>\n",
       "      <td>3 - 10 Years</td>\n",
       "      <td>2 months ago</td>\n",
       "    </tr>\n",
       "    <tr>\n",
       "      <th>11</th>\n",
       "      <td>Associate Cloud Engineer</td>\n",
       "      <td>Full-time</td>\n",
       "      <td>Hyderabad</td>\n",
       "      <td>0 - 3 Years</td>\n",
       "      <td>2 months ago</td>\n",
       "    </tr>\n",
       "    <tr>\n",
       "      <th>12</th>\n",
       "      <td>Sr Full Stack Developer</td>\n",
       "      <td>Full-time</td>\n",
       "      <td>Mauritius</td>\n",
       "      <td>3 - 8 Years</td>\n",
       "      <td>2 months ago</td>\n",
       "    </tr>\n",
       "    <tr>\n",
       "      <th>13</th>\n",
       "      <td>Blockchain Developer</td>\n",
       "      <td>Full-time</td>\n",
       "      <td>Hyderabad</td>\n",
       "      <td>1 - 4 Years</td>\n",
       "      <td>2 months ago</td>\n",
       "    </tr>\n",
       "    <tr>\n",
       "      <th>14</th>\n",
       "      <td>Junior Cloud Native Developer</td>\n",
       "      <td>Full-time</td>\n",
       "      <td>Delaware</td>\n",
       "      <td>1 - 2 Years</td>\n",
       "      <td>2 months ago</td>\n",
       "    </tr>\n",
       "    <tr>\n",
       "      <th>15</th>\n",
       "      <td>Lead DevOps Engineer</td>\n",
       "      <td>Full-time</td>\n",
       "      <td>Hyderabad</td>\n",
       "      <td>5 - 11 Years</td>\n",
       "      <td>2 months ago</td>\n",
       "    </tr>\n",
       "    <tr>\n",
       "      <th>16</th>\n",
       "      <td>Site Reliability Engineer</td>\n",
       "      <td>Full-time</td>\n",
       "      <td>New York</td>\n",
       "      <td>1 - 3 Years</td>\n",
       "      <td>2 months ago</td>\n",
       "    </tr>\n",
       "    <tr>\n",
       "      <th>17</th>\n",
       "      <td>OSS DevOps Engineer</td>\n",
       "      <td>Full-time</td>\n",
       "      <td>Hyderabad</td>\n",
       "      <td>6 - 12 Years</td>\n",
       "      <td>3 months ago</td>\n",
       "    </tr>\n",
       "    <tr>\n",
       "      <th>18</th>\n",
       "      <td>Sr SDET</td>\n",
       "      <td>Full-time</td>\n",
       "      <td>New York</td>\n",
       "      <td>3 - 10 Years</td>\n",
       "      <td>3 months ago</td>\n",
       "    </tr>\n",
       "    <tr>\n",
       "      <th>19</th>\n",
       "      <td>DevOps Architect</td>\n",
       "      <td>Full-time</td>\n",
       "      <td>Hyderabad</td>\n",
       "      <td>5 - 15 Years</td>\n",
       "      <td>3 months ago</td>\n",
       "    </tr>\n",
       "    <tr>\n",
       "      <th>20</th>\n",
       "      <td>Engineering Lead</td>\n",
       "      <td>Full-time</td>\n",
       "      <td>mauritius</td>\n",
       "      <td>7 - 18 Years</td>\n",
       "      <td>3 months ago</td>\n",
       "    </tr>\n",
       "    <tr>\n",
       "      <th>21</th>\n",
       "      <td>Social Media Intern</td>\n",
       "      <td>Internship</td>\n",
       "      <td>Hyderabad</td>\n",
       "      <td>0 Years</td>\n",
       "      <td>4 hours ago</td>\n",
       "    </tr>\n",
       "    <tr>\n",
       "      <th>22</th>\n",
       "      <td>Project Manager</td>\n",
       "      <td>Full-time</td>\n",
       "      <td>Hyderabad</td>\n",
       "      <td>2 - 5 Years</td>\n",
       "      <td>13 days ago</td>\n",
       "    </tr>\n",
       "    <tr>\n",
       "      <th>23</th>\n",
       "      <td>Talent Acquisition Specialist</td>\n",
       "      <td>Full-time</td>\n",
       "      <td>Hyderabad</td>\n",
       "      <td>1 - 5 Years</td>\n",
       "      <td>13 days ago</td>\n",
       "    </tr>\n",
       "    <tr>\n",
       "      <th>24</th>\n",
       "      <td>Sr.QA Engineer</td>\n",
       "      <td>Full-time</td>\n",
       "      <td>Hyderabad</td>\n",
       "      <td>3 - 5 Years</td>\n",
       "      <td>18 days ago</td>\n",
       "    </tr>\n",
       "    <tr>\n",
       "      <th>25</th>\n",
       "      <td>HR and Community Specialist</td>\n",
       "      <td>Full-time</td>\n",
       "      <td>New York</td>\n",
       "      <td>0 - 3 Years</td>\n",
       "      <td>3 months ago</td>\n",
       "    </tr>\n",
       "    <tr>\n",
       "      <th>26</th>\n",
       "      <td>Machine Learning Engineer</td>\n",
       "      <td>Full-time</td>\n",
       "      <td>Hyderabad</td>\n",
       "      <td>3 - 5 Years</td>\n",
       "      <td>3 months ago</td>\n",
       "    </tr>\n",
       "  </tbody>\n",
       "</table>\n",
       "</div>"
      ],
      "text/plain": [
       "                                            Role_name    Job_type   Location  \\\n",
       "0                                   Magento Developer   Full-time  Hyderabad   \n",
       "1                                    Python Developer   Full-time  Hyderabad   \n",
       "2   Computer Vision Engineer / Machine Learning En...  Internship  Hyderabad   \n",
       "3                              Cloud Native Developer   Full-time  Hyderabad   \n",
       "4                               Data Scientist Intern  Internship  Hyderabad   \n",
       "5                                   Embedded Engineer   Full-time  Hyderabad   \n",
       "6                                     System Engineer  Internship  Mauritius   \n",
       "7                               Associate QA Engineer   Full-time  Hyderabad   \n",
       "8                                Full Stack Developer   Full-time  Hyderabad   \n",
       "9                            Android Mobile Developer   Full-time  mauritius   \n",
       "10                                      iOS Developer   Full-time  Hyderabad   \n",
       "11                           Associate Cloud Engineer   Full-time  Hyderabad   \n",
       "12                            Sr Full Stack Developer   Full-time  Mauritius   \n",
       "13                               Blockchain Developer   Full-time  Hyderabad   \n",
       "14                      Junior Cloud Native Developer   Full-time   Delaware   \n",
       "15                              Lead DevOps Engineer    Full-time  Hyderabad   \n",
       "16                          Site Reliability Engineer   Full-time   New York   \n",
       "17                                OSS DevOps Engineer   Full-time  Hyderabad   \n",
       "18                                            Sr SDET   Full-time   New York   \n",
       "19                                   DevOps Architect   Full-time  Hyderabad   \n",
       "20                                   Engineering Lead   Full-time  mauritius   \n",
       "21                                Social Media Intern  Internship  Hyderabad   \n",
       "22                                    Project Manager   Full-time  Hyderabad   \n",
       "23                      Talent Acquisition Specialist   Full-time  Hyderabad   \n",
       "24                                     Sr.QA Engineer   Full-time  Hyderabad   \n",
       "25                        HR and Community Specialist   Full-time   New York   \n",
       "26                          Machine Learning Engineer   Full-time  Hyderabad   \n",
       "\n",
       "      Experience        Posted  \n",
       "0    2 - 8 Years   3 hours ago  \n",
       "1    1 - 3 Years    9 days ago  \n",
       "2    0 - 1 Years   10 days ago  \n",
       "3    2 - 5 Years   a month ago  \n",
       "4    0 - 4 Years   a month ago  \n",
       "5    2 - 4 Years   a month ago  \n",
       "6    0 - 1 Years   a month ago  \n",
       "7    1 - 3 Years   a month ago  \n",
       "8    4 - 9 Years  2 months ago  \n",
       "9    3 - 8 Years  2 months ago  \n",
       "10  3 - 10 Years  2 months ago  \n",
       "11   0 - 3 Years  2 months ago  \n",
       "12   3 - 8 Years  2 months ago  \n",
       "13   1 - 4 Years  2 months ago  \n",
       "14   1 - 2 Years  2 months ago  \n",
       "15  5 - 11 Years  2 months ago  \n",
       "16   1 - 3 Years  2 months ago  \n",
       "17  6 - 12 Years  3 months ago  \n",
       "18  3 - 10 Years  3 months ago  \n",
       "19  5 - 15 Years  3 months ago  \n",
       "20  7 - 18 Years  3 months ago  \n",
       "21       0 Years   4 hours ago  \n",
       "22   2 - 5 Years   13 days ago  \n",
       "23   1 - 5 Years   13 days ago  \n",
       "24   3 - 5 Years   18 days ago  \n",
       "25   0 - 3 Years  3 months ago  \n",
       "26   3 - 5 Years  3 months ago  "
      ]
     },
     "execution_count": 161,
     "metadata": {},
     "output_type": "execute_result"
    }
   ],
   "source": [
    "df"
   ]
  },
  {
   "cell_type": "code",
   "execution_count": 167,
   "metadata": {},
   "outputs": [],
   "source": [
    "df.to_csv('Techoultion.csv')"
   ]
  },
  {
   "cell_type": "code",
   "execution_count": null,
   "metadata": {},
   "outputs": [],
   "source": []
  }
 ],
 "metadata": {
  "kernelspec": {
   "display_name": "Python 3",
   "language": "python",
   "name": "python3"
  },
  "language_info": {
   "codemirror_mode": {
    "name": "ipython",
    "version": 3
   },
   "file_extension": ".py",
   "mimetype": "text/x-python",
   "name": "python",
   "nbconvert_exporter": "python",
   "pygments_lexer": "ipython3",
   "version": "3.6.5"
  }
 },
 "nbformat": 4,
 "nbformat_minor": 2
}
